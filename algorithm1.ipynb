{
 "cells": [
  {
   "cell_type": "code",
   "execution_count": 1,
   "metadata": {},
   "outputs": [],
   "source": [
    "import numpy as np"
   ]
  },
  {
   "cell_type": "markdown",
   "metadata": {},
   "source": [
    "This code will do the Algorithm 1 of the Sparse Vector Technique."
   ]
  },
  {
   "cell_type": "code",
   "execution_count": 2,
   "metadata": {},
   "outputs": [],
   "source": [
    "#This function scales down the queries evaluated on the data to have sensitivity 1 and returns a list containing them.\n",
    "#\n",
    "#    data: dataset\n",
    "#\n",
    "#    queries: list of queries.\n",
    "\n",
    "def scale_down(data, queries):\n",
    "    queries_sen1=[]\n",
    "    for i in queries: \n",
    "        i_sen1=i(data) / max(1, numpy.linalg.norm(i(data), ord=None, axis=None, keepdims=False))\n",
    "        queries_sen1.append(i_sen1)\n",
    "    return queries_sen1"
   ]
  },
  {
   "cell_type": "code",
   "execution_count": 3,
   "metadata": {},
   "outputs": [],
   "source": [
    "#This function realeases the index of the answered querie + noise if it's bigger than the noised threshold. \n",
    "#\n",
    "#    queries: list of queries evaluated on the data with sensivity 1.\n",
    "#\n",
    "#    T: threshold\n",
    "#\n",
    "#    eps: the privacy loss\n",
    "\n",
    "def Above_Threshold(queries, T, eps):\n",
    "    \n",
    "    T_noise= T + np.random.laplace(loc=0,scale= 2/eps, size=None)\n",
    "    for idx, q in enumerate(queries):\n",
    "        v_i=np.random.laplace(loc=0,scale= 4/eps, size=None)\n",
    "        print(v_i)\n",
    "        if q + v_i >= T_noise:\n",
    "            print(\"Released: \" , q + v_i) \n",
    "            return idx    #Indicates the first querie answered.\n",
    "        else:\n",
    "            print(\"Not released\")\n",
    "            print(idx)\n",
    "            \n",
    "    return idx #Returns the last index "
   ]
  },
  {
   "cell_type": "code",
   "execution_count": 4,
   "metadata": {},
   "outputs": [
    {
     "name": "stdout",
     "output_type": "stream",
     "text": [
      "(0, 0.2)\n",
      "0\n",
      "(1, 1)\n",
      "1\n",
      "(2, 3)\n",
      "2\n",
      "(3, 0.5)\n",
      "3\n",
      "-4.984868252894732\n",
      "Not released\n",
      "0\n",
      "-3.820753570114913\n",
      "Not released\n",
      "1\n",
      "-1.491131737039168\n",
      "Released:  1.508868262960832\n"
     ]
    },
    {
     "data": {
      "text/plain": [
       "2"
      ]
     },
     "execution_count": 4,
     "metadata": {},
     "output_type": "execute_result"
    }
   ],
   "source": [
    "queries=[0.2, 1,3,0.5]\n",
    "for i in enumerate(queries):\n",
    "    print(i)\n",
    "    print(i[0])\n",
    "T=0.8\n",
    "eps=1.0\n",
    "x=Above_Threshold(queries, T, eps)\n",
    "x"
   ]
  },
  {
   "cell_type": "code",
   "execution_count": null,
   "metadata": {},
   "outputs": [],
   "source": []
  }
 ],
 "metadata": {
  "kernelspec": {
   "display_name": "Python 3",
   "language": "python",
   "name": "python3"
  },
  "language_info": {
   "codemirror_mode": {
    "name": "ipython",
    "version": 3
   },
   "file_extension": ".py",
   "mimetype": "text/x-python",
   "name": "python",
   "nbconvert_exporter": "python",
   "pygments_lexer": "ipython3",
   "version": "3.7.6"
  }
 },
 "nbformat": 4,
 "nbformat_minor": 4
}
